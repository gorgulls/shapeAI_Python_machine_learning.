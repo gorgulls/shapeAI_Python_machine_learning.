{
  "nbformat": 4,
  "nbformat_minor": 0,
  "metadata": {
    "colab": {
      "name": "Vignesh M.ipynb",
      "provenance": []
    },
    "kernelspec": {
      "name": "python3",
      "display_name": "Python 3"
    },
    "language_info": {
      "name": "python"
    }
  },
  "cells": [
    {
      "cell_type": "code",
      "metadata": {
        "id": "TgyvVP4MJz0A"
      },
      "source": [
        "import numpy as np\n",
        "import pandas as pd\n",
        "import sklearn"
      ],
      "execution_count": null,
      "outputs": []
    },
    {
      "cell_type": "markdown",
      "metadata": {
        "id": "8KMDFmxfKIhA"
      },
      "source": [
        "Now we will load the data that we will be using to train our model"
      ]
    },
    {
      "cell_type": "code",
      "metadata": {
        "id": "gclIGcHqKShl"
      },
      "source": [
        "from sklearn.datasets import load_boston\n",
        "df=load_boston () "
      ],
      "execution_count": null,
      "outputs": []
    },
    {
      "cell_type": "code",
      "metadata": {
        "id": "7ZALWJMkV8Ok"
      },
      "source": [
        "from sklearn.model_selection import train_test_split\n",
        "X = boston.drop('MEDV,axis=1)')\n",
        "Y = boston['MEDV']\n",
        "x_train,X_test,Y_train,Y_test =train_test_split(X,Y,testsize=0.15)\n",
        "print(X_train.shape)\n",
        "print(X_train.shape)\n",
        "print(Y_train.shape)\n",
        "print(Y_test.shape)"
      ],
      "execution_count": null,
      "outputs": []
    }
  ]
}